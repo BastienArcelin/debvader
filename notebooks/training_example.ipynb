{
 "cells": [
  {
   "cell_type": "code",
   "execution_count": null,
   "id": "35d45244-cd14-45ac-9361-b5788d873132",
   "metadata": {},
   "outputs": [],
   "source": [
    "import os\n",
    "import numpy as np\n",
    "import matplotlib.pyplot as plt\n",
    "import tensorflow as tf\n",
    "\n",
    "#### TO suppress\n",
    "import sys\n",
    "sys.path.insert(0,'../debvader/')\n",
    "#### \n",
    "import train\n",
    "import debvader\n",
    "#from debvader import train\n",
    "#from debvader.debvader import load_deblender, deblend ### TO UNCOMMENT"
   ]
  },
  {
   "cell_type": "code",
   "execution_count": null,
   "id": "5ca8dabd-65f7-41f4-8bc0-2b34d72c5fb2",
   "metadata": {},
   "outputs": [],
   "source": [
    "path_folder = os.path.dirname(os.path.abspath(\"__file__\"))\n",
    "images = np.load(path_folder+'/../data/dc2_imgs/imgs_dc2.npy', mmap_mode = 'c')"
   ]
  },
  {
   "cell_type": "code",
   "execution_count": null,
   "id": "03e779cf-0f41-4160-abb6-04dbde92879e",
   "metadata": {},
   "outputs": [],
   "source": [
    "images.shape"
   ]
  },
  {
   "cell_type": "code",
   "execution_count": null,
   "id": "0bbbd6b9-096f-483e-900a-0205ace347cd",
   "metadata": {},
   "outputs": [],
   "source": [
    "training_data = np.array((images[:5], images[:5]))\n",
    "validation_data = np.array((images[5:], images[5:]))"
   ]
  },
  {
   "cell_type": "code",
   "execution_count": null,
   "id": "60f18d0e-4cc6-4a31-8e24-d849e1e3555a",
   "metadata": {},
   "outputs": [],
   "source": [
    "hist_vae, hist_deblender, net = train.train_deblender(\"lsst\",from_survey = \"dc2\", epochs = 2, training_data = training_data, validation_data = validation_data)"
   ]
  },
  {
   "cell_type": "code",
   "execution_count": null,
   "id": "9c859a6c-393c-462d-84af-82e7596b8d9f",
   "metadata": {},
   "outputs": [],
   "source": []
  },
  {
   "cell_type": "code",
   "execution_count": null,
   "id": "15aac255-0f03-438f-811a-49d6d1f95a4e",
   "metadata": {},
   "outputs": [],
   "source": []
  }
 ],
 "metadata": {
  "kernelspec": {
   "display_name": "env_debvader",
   "language": "python",
   "name": "jupyter_env_debvader"
  },
  "language_info": {
   "codemirror_mode": {
    "name": "ipython",
    "version": 3
   },
   "file_extension": ".py",
   "mimetype": "text/x-python",
   "name": "python",
   "nbconvert_exporter": "python",
   "pygments_lexer": "ipython3",
   "version": "3.6.13"
  }
 },
 "nbformat": 4,
 "nbformat_minor": 5
}
