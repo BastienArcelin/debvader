{
 "cells": [
  {
   "cell_type": "code",
   "execution_count": 1,
   "id": "35d45244-cd14-45ac-9361-b5788d873132",
   "metadata": {},
   "outputs": [
    {
     "name": "stdout",
     "output_type": "stream",
     "text": [
      "/pbs/throng/lsst/users/barcelin/debvader/debvader\n"
     ]
    }
   ],
   "source": [
    "import os\n",
    "import numpy as np\n",
    "import matplotlib.pyplot as plt\n",
    "import tensorflow as tf\n",
    "\n",
    "#### TO suppress\n",
    "import sys\n",
    "sys.path.insert(0,'../debvader/')\n",
    "#### \n",
    "import train\n",
    "import debvader\n",
    "#from debvader import train\n",
    "#from debvader.debvader import load_deblender, deblend ### TO UNCOMMENT"
   ]
  },
  {
   "cell_type": "markdown",
   "id": "66748883-003b-4a6d-80ef-8c138be461db",
   "metadata": {},
   "source": [
    "### Download and format data"
   ]
  },
  {
   "cell_type": "markdown",
   "id": "1c825abd-c046-4161-aa3f-1a5df9d80a28",
   "metadata": {},
   "source": [
    "Download dataset that will be used for training. It has been generated using the code in https://github.com/BastienArcelin/dc2_img_generation and the stamps are generated using the XXX function see notebook XXX. The size of the stamp is then fixed to 59x59 pixels."
   ]
  },
  {
   "cell_type": "code",
   "execution_count": null,
   "id": "add9cae6-ab10-4f3f-bf36-407278d300fd",
   "metadata": {},
   "outputs": [],
   "source": []
  },
  {
   "cell_type": "code",
   "execution_count": 2,
   "id": "5ca8dabd-65f7-41f4-8bc0-2b34d72c5fb2",
   "metadata": {},
   "outputs": [],
   "source": [
    "path_folder = os.path.dirname(os.path.abspath(\"__file__\"))\n",
    "images = np.load(path_folder+'/../data/dc2_imgs/imgs_dc2.npy', mmap_mode = 'c')"
   ]
  },
  {
   "cell_type": "code",
   "execution_count": 3,
   "id": "03e779cf-0f41-4160-abb6-04dbde92879e",
   "metadata": {},
   "outputs": [
    {
     "data": {
      "text/plain": [
       "(10, 59, 59, 6)"
      ]
     },
     "execution_count": 3,
     "metadata": {},
     "output_type": "execute_result"
    }
   ],
   "source": [
    "images.shape"
   ]
  },
  {
   "cell_type": "markdown",
   "id": "bca82e2c-1861-415b-b7bb-ca8d3c340db4",
   "metadata": {},
   "source": [
    "Separate training data and labels to feed the VAE and deblender. You should be careful that the number of filter in the data for trainng correspond to the number of bands considered for the network (default is six)."
   ]
  },
  {
   "cell_type": "code",
   "execution_count": 4,
   "id": "0bbbd6b9-096f-483e-900a-0205ace347cd",
   "metadata": {},
   "outputs": [],
   "source": [
    "training_data_vae = np.array((images[:5], images[:5]))\n",
    "validation_data_vae = np.array((images[5:], images[5:]))\n",
    "\n",
    "training_data_deblender = np.array((images[:5], images[:5]))\n",
    "validation_data_deblender = np.array((images[5:], images[5:]))"
   ]
  },
  {
   "cell_type": "markdown",
   "id": "fc46b4ec-f29d-4d8e-b7b4-dc6d6a02e8b0",
   "metadata": {},
   "source": [
    "### Train the VAE and deblender with architecture from the debvader paper (https://arxiv.org/abs/2005.12039)"
   ]
  },
  {
   "cell_type": "code",
   "execution_count": 5,
   "id": "60f18d0e-4cc6-4a31-8e24-d849e1e3555a",
   "metadata": {},
   "outputs": [
    {
     "name": "stdout",
     "output_type": "stream",
     "text": [
      "in cropping\n",
      "6\n",
      "WARNING:tensorflow:From /sps/lsst/users/barcelin/miniconda/envs/myenv_test_debvader/lib/python3.6/site-packages/tensorflow_core/python/ops/linalg/linear_operator_lower_triangular.py:158: calling LinearOperator.__init__ (from tensorflow.python.ops.linalg.linear_operator) with graph_parents is deprecated and will be removed in a future version.\n",
      "Instructions for updating:\n",
      "Do not pass `graph_parents`.  They will  no longer be used.\n",
      "VAE model\n",
      "Model: \"model_2\"\n",
      "_________________________________________________________________\n",
      "Layer (type)                 Output Shape              Param #   \n",
      "=================================================================\n",
      "input_3 (InputLayer)         [(None, 59, 59, 6)]       0         \n",
      "_________________________________________________________________\n",
      "model (Model)                (None, 560)               3741224   \n",
      "_________________________________________________________________\n",
      "multivariate_normal_tri_l (M ((None, 32), (None, 32))  0         \n",
      "_________________________________________________________________\n",
      "model_1 (Model)              (None, 59, 59, 6)         4577228   \n",
      "=================================================================\n",
      "Total params: 8,318,452\n",
      "Trainable params: 8,318,440\n",
      "Non-trainable params: 12\n",
      "_________________________________________________________________\n",
      "\n",
      "Start the training\n",
      "Train on 5 samples, validate on 5 samples\n",
      "Epoch 1/2\n",
      "\n",
      "Epoch 00001: mse improved from inf to 0.11485, saving model to ../data/weights/lsst/vae/mse/weights_noisy_v4.ckpt\n",
      "\n",
      "Epoch 00001: loss improved from inf to 1146512.12500, saving model to ../data/weights/lsst/vae/loss/weights_noisy_v4.ckpt\n",
      "\n",
      "Epoch 00001: val_mse improved from inf to 0.09868, saving model to ../data/weights/lsst/vae/val_mse/weights_noisy_v4.ckpt\n",
      "\n",
      "Epoch 00001: val_loss improved from inf to 77933.82031, saving model to ../data/weights/lsst/vae/val_loss/weights_noisy_v4.ckpt\n",
      "5/5 - 3s - loss: 1146512.1250 - mse: 0.1149 - kl_metric: 0.2462 - val_loss: 77933.8203 - val_mse: 0.0987 - val_kl_metric: 0.1975\n",
      "Epoch 2/2\n",
      "\n",
      "Epoch 00002: mse did not improve from 0.11485\n",
      "\n",
      "Epoch 00002: loss improved from 1146512.12500 to 42790.18750, saving model to ../data/weights/lsst/vae/loss/weights_noisy_v4.ckpt\n",
      "WARNING:tensorflow:Method (on_train_batch_end) is slow compared to the batch update (0.413109). Check your callbacks.\n",
      "\n",
      "Epoch 00002: val_mse did not improve from 0.09868\n",
      "\n",
      "Epoch 00002: val_loss improved from 77933.82031 to 6141.51904, saving model to ../data/weights/lsst/vae/val_loss/weights_noisy_v4.ckpt\n",
      "5/5 - 1s - loss: 42790.1875 - mse: 0.1655 - kl_metric: 0.2695 - val_loss: 6141.5190 - val_mse: 0.1009 - val_kl_metric: 0.1764\n",
      "\n",
      "Training of VAE done.\n",
      "\n",
      "\n",
      "Deblender model\n",
      "Model: \"model_2\"\n",
      "_________________________________________________________________\n",
      "Layer (type)                 Output Shape              Param #   \n",
      "=================================================================\n",
      "input_3 (InputLayer)         [(None, 59, 59, 6)]       0         \n",
      "_________________________________________________________________\n",
      "model (Model)                (None, 560)               3741224   \n",
      "_________________________________________________________________\n",
      "multivariate_normal_tri_l (M ((None, 32), (None, 32))  0         \n",
      "_________________________________________________________________\n",
      "model_1 (Model)              (None, 59, 59, 6)         4577228   \n",
      "=================================================================\n",
      "Total params: 8,318,452\n",
      "Trainable params: 3,741,212\n",
      "Non-trainable params: 4,577,240\n",
      "_________________________________________________________________\n",
      "\n",
      "Start the training\n",
      "Train on 5 samples, validate on 5 samples\n",
      "Epoch 1/2\n",
      "\n",
      "Epoch 00001: mse improved from inf to 0.25641, saving model to ../data/weights/lsst/deblender/mse/weights_noisy_v4.ckpt\n",
      "\n",
      "Epoch 00001: loss improved from inf to 1179.99963, saving model to ../data/weights/lsst/deblender/loss/weights_noisy_v4.ckpt\n",
      "\n",
      "Epoch 00001: val_mse improved from inf to 0.10010, saving model to ../data/weights/lsst/deblender/val_mse/weights_noisy_v4.ckpt\n",
      "\n",
      "Epoch 00001: val_loss improved from inf to 5968.51318, saving model to ../data/weights/lsst/deblender/val_loss/weights_noisy_v4.ckpt\n",
      "5/5 - 3s - loss: 1179.9996 - mse: 0.2564 - kl_metric: 0.3425 - val_loss: 5968.5132 - val_mse: 0.1001 - val_kl_metric: 0.2396\n",
      "Epoch 2/2\n",
      "\n",
      "Epoch 00002: mse improved from 0.25641 to 0.20283, saving model to ../data/weights/lsst/deblender/mse/weights_noisy_v4.ckpt\n",
      "\n",
      "Epoch 00002: loss improved from 1179.99963 to 738.48358, saving model to ../data/weights/lsst/deblender/loss/weights_noisy_v4.ckpt\n",
      "WARNING:tensorflow:Method (on_train_batch_end) is slow compared to the batch update (0.633937). Check your callbacks.\n",
      "\n",
      "Epoch 00002: val_mse did not improve from 0.10010\n",
      "\n",
      "Epoch 00002: val_loss improved from 5968.51318 to 4903.42432, saving model to ../data/weights/lsst/deblender/val_loss/weights_noisy_v4.ckpt\n",
      "5/5 - 1s - loss: 738.4836 - mse: 0.2028 - kl_metric: 0.4156 - val_loss: 4903.4243 - val_mse: 0.1035 - val_kl_metric: 0.2371\n",
      "\n",
      "Training of Deblender done.\n"
     ]
    }
   ],
   "source": [
    "hist_vae, hist_deblender, net = train.train_deblender(\"lsst\",\n",
    "                                                      from_survey = \"dc2\", \n",
    "                                                      epochs = 2, \n",
    "                                                      training_data_vae = training_data_vae, \n",
    "                                                      validation_data_vae = validation_data_vae, \n",
    "                                                      training_data_deblender = training_data_deblender, \n",
    "                                                      validation_data_deblender = validation_data_deblender)"
   ]
  },
  {
   "cell_type": "markdown",
   "id": "95afcab4-5c6f-44e2-8b20-c17c8ee434e7",
   "metadata": {},
   "source": [
    "### Dataset with a different number of filters"
   ]
  },
  {
   "cell_type": "markdown",
   "id": "87aa14b7-5dbc-44a1-9f83-dc7a4ad5dd7e",
   "metadata": {},
   "source": [
    "The number of available filters is different for each survey. For example, five filters are available for DES data. To change that you should specify it in the train_deblender function, as well as if the channels appear last or first in the data array."
   ]
  },
  {
   "cell_type": "code",
   "execution_count": 6,
   "id": "dfb93b18-59c9-4ee7-ab9f-76cadda8e4d1",
   "metadata": {},
   "outputs": [
    {
     "data": {
      "text/plain": [
       "(2, 5, 59, 59, 6)"
      ]
     },
     "execution_count": 6,
     "metadata": {},
     "output_type": "execute_result"
    }
   ],
   "source": [
    "training_data_vae.shape"
   ]
  },
  {
   "cell_type": "markdown",
   "id": "42def587-2133-457d-b655-d970a61468ae",
   "metadata": {},
   "source": [
    "Here the channels appear last in the data array. So the channel_first option in the train_deblender function is set as False (default setting)."
   ]
  },
  {
   "cell_type": "code",
   "execution_count": 7,
   "id": "15aac255-0f03-438f-811a-49d6d1f95a4e",
   "metadata": {},
   "outputs": [
    {
     "name": "stdout",
     "output_type": "stream",
     "text": [
      "in cropping\n",
      "5\n",
      "VAE model\n",
      "Model: \"model_5\"\n",
      "_________________________________________________________________\n",
      "Layer (type)                 Output Shape              Param #   \n",
      "=================================================================\n",
      "input_6 (InputLayer)         [(None, 59, 59, 5)]       0         \n",
      "_________________________________________________________________\n",
      "model_3 (Model)              (None, 560)               3740932   \n",
      "_________________________________________________________________\n",
      "multivariate_normal_tri_l_1  ((None, 32), (None, 32))  0         \n",
      "_________________________________________________________________\n",
      "model_4 (Model)              (None, 59, 59, 5)         4576650   \n",
      "=================================================================\n",
      "Total params: 8,317,582\n",
      "Trainable params: 8,317,572\n",
      "Non-trainable params: 10\n",
      "_________________________________________________________________\n",
      "6 5\n",
      "The number of bands in the data does not correspond to the number of filters in the network. Correct this before starting again.\n"
     ]
    },
    {
     "ename": "ValueError",
     "evalue": "",
     "output_type": "error",
     "traceback": [
      "\u001b[0;31m---------------------------------------------------------------------------\u001b[0m",
      "\u001b[0;31mValueError\u001b[0m                                Traceback (most recent call last)",
      "\u001b[0;32m<ipython-input-7-d367ad81457b>\u001b[0m in \u001b[0;36m<module>\u001b[0;34m\u001b[0m\n\u001b[1;32m      7\u001b[0m                                                       \u001b[0mvalidation_data_deblender\u001b[0m \u001b[0;34m=\u001b[0m \u001b[0mvalidation_data_deblender\u001b[0m\u001b[0;34m,\u001b[0m\u001b[0;34m\u001b[0m\u001b[0;34m\u001b[0m\u001b[0m\n\u001b[1;32m      8\u001b[0m                                                       \u001b[0mnb_of_bands\u001b[0m \u001b[0;34m=\u001b[0m \u001b[0;36m5\u001b[0m\u001b[0;34m,\u001b[0m\u001b[0;34m\u001b[0m\u001b[0;34m\u001b[0m\u001b[0m\n\u001b[0;32m----> 9\u001b[0;31m                                                       channel_last = True)\n\u001b[0m",
      "\u001b[0;32m/pbs/throng/lsst/users/barcelin/debvader/debvader/train.py\u001b[0m in \u001b[0;36mtrain_deblender\u001b[0;34m(survey_name, from_survey, epochs, training_data_vae, validation_data_vae, training_data_deblender, validation_data_deblender, nb_of_bands, channel_last, batch_size, verbose)\u001b[0m\n\u001b[1;32m    100\u001b[0m         \u001b[0mprint\u001b[0m\u001b[0;34m(\u001b[0m\u001b[0;34m'The number of bands in the data does not correspond to the number of filters in the network. Correct this before starting again.'\u001b[0m\u001b[0;34m)\u001b[0m\u001b[0;34m\u001b[0m\u001b[0;34m\u001b[0m\u001b[0m\n\u001b[1;32m    101\u001b[0m         \u001b[0;32mraise\u001b[0m \u001b[0mValueError\u001b[0m\u001b[0;34m\u001b[0m\u001b[0;34m\u001b[0m\u001b[0m\n\u001b[0;32m--> 102\u001b[0;31m \u001b[0;34m\u001b[0m\u001b[0m\n\u001b[0m\u001b[1;32m    103\u001b[0m     \u001b[0;31m# Start from the weights of an already trained network (recommended if possible)\u001b[0m\u001b[0;34m\u001b[0m\u001b[0;34m\u001b[0m\u001b[0;34m\u001b[0m\u001b[0m\n\u001b[1;32m    104\u001b[0m     \u001b[0;32mif\u001b[0m \u001b[0mfrom_survey\u001b[0m\u001b[0;34m!=\u001b[0m\u001b[0;32mNone\u001b[0m\u001b[0;34m:\u001b[0m\u001b[0;34m\u001b[0m\u001b[0;34m\u001b[0m\u001b[0m\n",
      "\u001b[0;31mValueError\u001b[0m: "
     ]
    }
   ],
   "source": [
    "hist_vae, hist_deblender, net = train.train_deblender(\"des\",\n",
    "                                                      from_survey = \"dc2\", \n",
    "                                                      epochs = 2, \n",
    "                                                      training_data_vae = training_data_vae, \n",
    "                                                      validation_data_vae = validation_data_vae, \n",
    "                                                      training_data_deblender = training_data_deblender, \n",
    "                                                      validation_data_deblender = validation_data_deblender,\n",
    "                                                      nb_of_bands = 5,\n",
    "                                                      channel_last = True)"
   ]
  },
  {
   "cell_type": "markdown",
   "id": "a63c1b5e-ca38-4e76-a46e-3b477e88f3ca",
   "metadata": {},
   "source": [
    "We need to change the training data format. For example just train on the five fist channels."
   ]
  },
  {
   "cell_type": "code",
   "execution_count": 8,
   "id": "15df582c-b35b-492d-9bbf-8a9d0ce4d8fe",
   "metadata": {},
   "outputs": [],
   "source": [
    "training_data_vae_deslike = np.array((images[:5,:,:,:5], images[:5,:,:,:5]))\n",
    "validation_data_vae_deslike = np.array((images[5:,:,:,:5], images[5:,:,:,:5]))\n",
    "\n",
    "training_data_deblender_deslike = np.array((images[:5,:,:,:5], images[:5,:,:,:5]))\n",
    "validation_data_deblender_deslike = np.array((images[5:,:,:,:5], images[5:,:,:,:5]))"
   ]
  },
  {
   "cell_type": "markdown",
   "id": "4032f71a-fa6f-42cd-a626-39d3a52fa162",
   "metadata": {},
   "source": [
    "Now try the training:"
   ]
  },
  {
   "cell_type": "code",
   "execution_count": 10,
   "id": "a0fed47e-a93b-48d9-b0a8-30ab7cb3b5d8",
   "metadata": {},
   "outputs": [],
   "source": [
    "path_output = '../data/weights/dc2/not_normalised/'\n",
    "latest = tf.train.latest_checkpoint(path_output)"
   ]
  },
  {
   "cell_type": "markdown",
   "id": "c9cd53c2-75fd-48c3-b9c7-e907d4f3ba06",
   "metadata": {},
   "source": [
    "Warning: we cannot use the weights from the network trained on DC2 as the data has six channels in that case. We need to set the from_survey option to None."
   ]
  },
  {
   "cell_type": "code",
   "execution_count": 12,
   "id": "b74e8b6f-a312-4ae4-b521-2b957950f1f3",
   "metadata": {},
   "outputs": [
    {
     "name": "stdout",
     "output_type": "stream",
     "text": [
      "in cropping\n",
      "5\n",
      "VAE model\n",
      "Model: \"model_11\"\n",
      "_________________________________________________________________\n",
      "Layer (type)                 Output Shape              Param #   \n",
      "=================================================================\n",
      "input_12 (InputLayer)        [(None, 59, 59, 5)]       0         \n",
      "_________________________________________________________________\n",
      "model_9 (Model)              (None, 560)               3740932   \n",
      "_________________________________________________________________\n",
      "multivariate_normal_tri_l_3  ((None, 32), (None, 32))  0         \n",
      "_________________________________________________________________\n",
      "model_10 (Model)             (None, 59, 59, 5)         4576650   \n",
      "=================================================================\n",
      "Total params: 8,317,582\n",
      "Trainable params: 8,317,572\n",
      "Non-trainable params: 10\n",
      "_________________________________________________________________\n",
      "\n",
      "Start the training\n",
      "Train on 5 samples, validate on 5 samples\n",
      "Epoch 1/2\n",
      "\n",
      "Epoch 00001: mse improved from inf to 0.06085, saving model to ../data/weights/des/vae/mse/weights_noisy_v4.ckpt\n",
      "\n",
      "Epoch 00001: loss improved from inf to 2568178.25000, saving model to ../data/weights/des/vae/loss/weights_noisy_v4.ckpt\n",
      "\n",
      "Epoch 00001: val_mse improved from inf to 0.09296, saving model to ../data/weights/des/vae/val_mse/weights_noisy_v4.ckpt\n",
      "\n",
      "Epoch 00001: val_loss improved from inf to 2303077.75000, saving model to ../data/weights/des/vae/val_loss/weights_noisy_v4.ckpt\n",
      "5/5 - 4s - loss: 2568178.2500 - mse: 0.0609 - kl_metric: 0.0717 - val_loss: 2303077.7500 - val_mse: 0.0930 - val_kl_metric: 0.0770\n",
      "Epoch 2/2\n",
      "\n",
      "Epoch 00002: mse improved from 0.06085 to 0.06085, saving model to ../data/weights/des/vae/mse/weights_noisy_v4.ckpt\n",
      "\n",
      "Epoch 00002: loss improved from 2568178.25000 to 1884371.37500, saving model to ../data/weights/des/vae/loss/weights_noisy_v4.ckpt\n",
      "WARNING:tensorflow:Method (on_train_batch_end) is slow compared to the batch update (0.815140). Check your callbacks.\n",
      "\n",
      "Epoch 00002: val_mse improved from 0.09296 to 0.09295, saving model to ../data/weights/des/vae/val_mse/weights_noisy_v4.ckpt\n",
      "\n",
      "Epoch 00002: val_loss improved from 2303077.75000 to 1360827.87500, saving model to ../data/weights/des/vae/val_loss/weights_noisy_v4.ckpt\n",
      "5/5 - 2s - loss: 1884371.3750 - mse: 0.0608 - kl_metric: 0.0524 - val_loss: 1360827.8750 - val_mse: 0.0929 - val_kl_metric: 0.0844\n",
      "\n",
      "Training of VAE done.\n",
      "\n",
      "\n",
      "Deblender model\n",
      "Model: \"model_11\"\n",
      "_________________________________________________________________\n",
      "Layer (type)                 Output Shape              Param #   \n",
      "=================================================================\n",
      "input_12 (InputLayer)        [(None, 59, 59, 5)]       0         \n",
      "_________________________________________________________________\n",
      "model_9 (Model)              (None, 560)               3740932   \n",
      "_________________________________________________________________\n",
      "multivariate_normal_tri_l_3  ((None, 32), (None, 32))  0         \n",
      "_________________________________________________________________\n",
      "model_10 (Model)             (None, 59, 59, 5)         4576650   \n",
      "=================================================================\n",
      "Total params: 8,317,582\n",
      "Trainable params: 3,740,922\n",
      "Non-trainable params: 4,576,660\n",
      "_________________________________________________________________\n",
      "\n",
      "Start the training\n",
      "Train on 5 samples, validate on 5 samples\n",
      "Epoch 1/2\n",
      "\n",
      "Epoch 00001: mse improved from inf to 0.06084, saving model to ../data/weights/des/deblender/mse/weights_noisy_v4.ckpt\n",
      "\n",
      "Epoch 00001: loss improved from inf to 1098225.37500, saving model to ../data/weights/des/deblender/loss/weights_noisy_v4.ckpt\n",
      "\n",
      "Epoch 00001: val_mse improved from inf to 0.09295, saving model to ../data/weights/des/deblender/val_mse/weights_noisy_v4.ckpt\n",
      "\n",
      "Epoch 00001: val_loss improved from inf to 1207224.25000, saving model to ../data/weights/des/deblender/val_loss/weights_noisy_v4.ckpt\n",
      "5/5 - 3s - loss: 1098225.3750 - mse: 0.0608 - kl_metric: 0.0954 - val_loss: 1207224.2500 - val_mse: 0.0929 - val_kl_metric: 0.0985\n",
      "Epoch 2/2\n",
      "\n",
      "Epoch 00002: mse did not improve from 0.06084\n",
      "\n",
      "Epoch 00002: loss improved from 1098225.37500 to 1030639.43750, saving model to ../data/weights/des/deblender/loss/weights_noisy_v4.ckpt\n",
      "WARNING:tensorflow:Method (on_train_batch_end) is slow compared to the batch update (0.307683). Check your callbacks.\n",
      "\n",
      "Epoch 00002: val_mse improved from 0.09295 to 0.09295, saving model to ../data/weights/des/deblender/val_mse/weights_noisy_v4.ckpt\n",
      "\n",
      "Epoch 00002: val_loss improved from 1207224.25000 to 1161208.25000, saving model to ../data/weights/des/deblender/val_loss/weights_noisy_v4.ckpt\n",
      "5/5 - 1s - loss: 1030639.4375 - mse: 0.0608 - kl_metric: 0.0704 - val_loss: 1161208.2500 - val_mse: 0.0929 - val_kl_metric: 0.0574\n",
      "\n",
      "Training of Deblender done.\n"
     ]
    }
   ],
   "source": [
    "hist_vae, hist_deblender, net = train.train_deblender(\"des\",\n",
    "                                                      from_survey = None, \n",
    "                                                      epochs = 2, \n",
    "                                                      training_data_vae = training_data_vae_deslike, \n",
    "                                                      validation_data_vae = validation_data_vae_deslike, \n",
    "                                                      training_data_deblender = training_data_deblender_deslike, \n",
    "                                                      validation_data_deblender = validation_data_deblender_deslike,\n",
    "                                                      nb_of_bands = 5,\n",
    "                                                      channel_last = True)"
   ]
  }
 ],
 "metadata": {
  "kernelspec": {
   "display_name": "env_debvader",
   "language": "python",
   "name": "jupyter_env_debvader"
  },
  "language_info": {
   "codemirror_mode": {
    "name": "ipython",
    "version": 3
   },
   "file_extension": ".py",
   "mimetype": "text/x-python",
   "name": "python",
   "nbconvert_exporter": "python",
   "pygments_lexer": "ipython3",
   "version": "3.6.13"
  }
 },
 "nbformat": 4,
 "nbformat_minor": 5
}
