{
 "cells": [
  {
   "cell_type": "code",
   "execution_count": 1,
   "id": "35d45244-cd14-45ac-9361-b5788d873132",
   "metadata": {},
   "outputs": [
    {
     "name": "stderr",
     "output_type": "stream",
     "text": [
      "2022-04-27 16:34:07.636985: W tensorflow/stream_executor/platform/default/dso_loader.cc:59] Could not load dynamic library 'libcudart.so.10.1'; dlerror: libcudart.so.10.1: cannot open shared object file: No such file or directory; LD_LIBRARY_PATH: /pbs/throng/lsst/users/bbiswas/miniconda3/envs/debvader/lib/:\n",
      "2022-04-27 16:34:07.637027: I tensorflow/stream_executor/cuda/cudart_stub.cc:29] Ignore above cudart dlerror if you do not have a GPU set up on your machine.\n"
     ]
    }
   ],
   "source": [
    "import os\n",
    "import numpy as np\n",
    "import matplotlib.pyplot as plt\n",
    "import tensorflow as tf\n",
    "import pkg_resources\n",
    "\n",
    "import debvader"
   ]
  },
  {
   "cell_type": "markdown",
   "id": "66748883-003b-4a6d-80ef-8c138be461db",
   "metadata": {},
   "source": [
    "### Download and format data"
   ]
  },
  {
   "cell_type": "markdown",
   "id": "1c825abd-c046-4161-aa3f-1a5df9d80a28",
   "metadata": {},
   "source": [
    "Download dataset that will be used for training. It has been generated using the code in https://github.com/BastienArcelin/dc2_img_generation and the stamps are generated using the XXX function see notebook XXX. The size of the stamp is then fixed to 59x59 pixels."
   ]
  },
  {
   "cell_type": "code",
   "execution_count": 2,
   "id": "5ca8dabd-65f7-41f4-8bc0-2b34d72c5fb2",
   "metadata": {},
   "outputs": [],
   "source": [
    "data_folder_path = pkg_resources.resource_filename('debvader', \"data/\")\n",
    "image_path = os.path.join(data_folder_path + 'dc2_imgs/imgs_dc2.npy')\n",
    "images = np.load(image_path, mmap_mode = 'c')"
   ]
  },
  {
   "cell_type": "code",
   "execution_count": null,
   "id": "e287c7f8-85d6-4a03-a7f2-184496c26609",
   "metadata": {},
   "outputs": [],
   "source": []
  },
  {
   "cell_type": "code",
   "execution_count": 3,
   "id": "03e779cf-0f41-4160-abb6-04dbde92879e",
   "metadata": {},
   "outputs": [
    {
     "data": {
      "text/plain": [
       "(10, 59, 59, 6)"
      ]
     },
     "execution_count": 3,
     "metadata": {},
     "output_type": "execute_result"
    }
   ],
   "source": [
    "images.shape"
   ]
  },
  {
   "cell_type": "markdown",
   "id": "bca82e2c-1861-415b-b7bb-ca8d3c340db4",
   "metadata": {},
   "source": [
    "Separate training data and labels to feed the VAE and deblender. You should be careful that the number of filter in the data for trainng correspond to the number of bands considered for the network (default is six)."
   ]
  },
  {
   "cell_type": "code",
   "execution_count": 4,
   "id": "0bbbd6b9-096f-483e-900a-0205ace347cd",
   "metadata": {},
   "outputs": [],
   "source": [
    "training_data_vae = np.array((images[:5], images[:5]))\n",
    "validation_data_vae = np.array((images[5:], images[5:]))\n",
    "\n",
    "training_data_deblender = np.array((images[:5], images[:5]))\n",
    "validation_data_deblender = np.array((images[5:], images[5:]))"
   ]
  },
  {
   "cell_type": "markdown",
   "id": "fc46b4ec-f29d-4d8e-b7b4-dc6d6a02e8b0",
   "metadata": {},
   "source": [
    "### Train the VAE and deblender with architecture from the debvader paper (https://arxiv.org/abs/2005.12039)"
   ]
  },
  {
   "cell_type": "code",
   "execution_count": 5,
   "id": "60f18d0e-4cc6-4a31-8e24-d849e1e3555a",
   "metadata": {
    "tags": []
   },
   "outputs": [
    {
     "name": "stderr",
     "output_type": "stream",
     "text": [
      "2022-04-27 16:34:15.764340: W tensorflow/stream_executor/platform/default/dso_loader.cc:59] Could not load dynamic library 'libcuda.so.1'; dlerror: libcuda.so.1: cannot open shared object file: No such file or directory; LD_LIBRARY_PATH: /pbs/throng/lsst/users/bbiswas/miniconda3/envs/debvader/lib/:\n",
      "2022-04-27 16:34:15.764417: W tensorflow/stream_executor/cuda/cuda_driver.cc:312] failed call to cuInit: UNKNOWN ERROR (303)\n",
      "2022-04-27 16:34:15.764463: I tensorflow/stream_executor/cuda/cuda_diagnostics.cc:156] kernel driver does not appear to be running on this host (jns-bbiswas.cc.in2p3.fr): /proc/driver/nvidia/version does not exist\n",
      "2022-04-27 16:34:15.764813: I tensorflow/core/platform/cpu_feature_guard.cc:142] This TensorFlow binary is optimized with oneAPI Deep Neural Network Library (oneDNN)to use the following CPU instructions in performance-critical operations:  AVX2 AVX512F FMA\n",
      "To enable them in other operations, rebuild TensorFlow with the appropriate compiler flags.\n",
      "2022-04-27 16:34:15.777812: I tensorflow/core/platform/profile_utils/cpu_utils.cc:104] CPU Frequency: 2494140000 Hz\n",
      "2022-04-27 16:34:15.778812: I tensorflow/compiler/xla/service/service.cc:168] XLA service 0x560ecf308040 initialized for platform Host (this does not guarantee that XLA will be used). Devices:\n",
      "2022-04-27 16:34:15.778851: I tensorflow/compiler/xla/service/service.cc:176]   StreamExecutor device (0): Host, Default Version\n"
     ]
    },
    {
     "name": "stdout",
     "output_type": "stream",
     "text": [
      "in cropping\n",
      "WARNING:tensorflow:From /pbs/throng/lsst/users/bbiswas/miniconda3/envs/debvader/lib/python3.7/site-packages/tensorflow/python/ops/linalg/linear_operator_lower_triangular.py:158: calling LinearOperator.__init__ (from tensorflow.python.ops.linalg.linear_operator) with graph_parents is deprecated and will be removed in a future version.\n",
      "Instructions for updating:\n",
      "Do not pass `graph_parents`.  They will  no longer be used.\n",
      "WARNING:tensorflow:From /pbs/throng/lsst/users/bbiswas/miniconda3/envs/debvader/lib/python3.7/site-packages/tensorflow_probability/python/distributions/distribution.py:334: calling TransformedDistribution.__init__ (from tensorflow_probability.python.distributions.transformed_distribution) with batch_shape is deprecated and will be removed after 2020-06-01.\n",
      "Instructions for updating:\n",
      "`batch_shape` and `event_shape` args are deprecated. Please use `tfd.Sample`, `tfd.Independent`, and broadcasted parameters of the base distribution instead. For example, replace `tfd.TransformedDistribution(tfd.Normal(0., 1.), tfb.Exp(), batch_shape=[2, 3], event_shape=[4])` with `tfd.TransformedDistrbution(tfd.Sample(tfd.Normal(tf.zeros([2, 3]), 1.),sample_shape=[4]), tfb.Exp())` or `tfd.TransformedDistribution(tfd.Independent(tfd.Normal(tf.zeros([2, 3, 4]), 1.), reinterpreted_batch_ndims=1), tfb.Exp())`.\n",
      "WARNING:tensorflow:From /pbs/throng/lsst/users/bbiswas/miniconda3/envs/debvader/lib/python3.7/site-packages/tensorflow_probability/python/distributions/distribution.py:334: calling TransformedDistribution.__init__ (from tensorflow_probability.python.distributions.transformed_distribution) with event_shape is deprecated and will be removed after 2020-06-01.\n",
      "Instructions for updating:\n",
      "`batch_shape` and `event_shape` args are deprecated. Please use `tfd.Sample`, `tfd.Independent`, and broadcasted parameters of the base distribution instead. For example, replace `tfd.TransformedDistribution(tfd.Normal(0., 1.), tfb.Exp(), batch_shape=[2, 3], event_shape=[4])` with `tfd.TransformedDistrbution(tfd.Sample(tfd.Normal(tf.zeros([2, 3]), 1.),sample_shape=[4]), tfb.Exp())` or `tfd.TransformedDistribution(tfd.Independent(tfd.Normal(tf.zeros([2, 3, 4]), 1.), reinterpreted_batch_ndims=1), tfb.Exp())`.\n"
     ]
    },
    {
     "name": "stderr",
     "output_type": "stream",
     "text": [
      "2022-04-27 16:34:16.746441: W tensorflow/python/util/util.cc:348] Sets are not currently considered sequences, but this may change in the future, so consider avoiding using them.\n"
     ]
    },
    {
     "name": "stdout",
     "output_type": "stream",
     "text": [
      "Model: \"functional_1\"\n",
      "_________________________________________________________________\n",
      "Layer (type)                 Output Shape              Param #   \n",
      "=================================================================\n",
      "input_3 (InputLayer)         [(None, 59, 59, 6)]       0         \n",
      "_________________________________________________________________\n",
      "encoder (Functional)         (None, 65)                5709881   \n",
      "_________________________________________________________________\n",
      "latent_space (MultivariateNo ((None, 10), (None, 10))  0         \n",
      "_________________________________________________________________\n",
      "decoder (Functional)         (None, 59, 59, 6)         3316044   \n",
      "=================================================================\n",
      "Total params: 9,025,925\n",
      "Trainable params: 9,025,913\n",
      "Non-trainable params: 12\n",
      "_________________________________________________________________\n",
      "None\n",
      "\n",
      "Start the training\n",
      "Epoch 1/5\n",
      "1/1 [==============================] - ETA: 0s - loss: 850977344.0000 - mse: 0.0863 - kl_metric: 0.0178\n",
      "Epoch 00001: val_mse improved from inf to 0.11126, saving model to /pbs/throng/lsst/users/bbiswas/debvader/debvader/data/weights/trial/vae/val_mse/weights.ckpt\n",
      "\n",
      "Epoch 00001: val_loss improved from inf to 209217376.00000, saving model to /pbs/throng/lsst/users/bbiswas/debvader/debvader/data/weights/trial/vae/val_loss/weights.ckpt\n",
      "1/1 [==============================] - 2s 2s/step - loss: 850977344.0000 - mse: 0.0863 - kl_metric: 0.0178 - val_loss: 209217376.0000 - val_mse: 0.1113 - val_kl_metric: 0.0222\n",
      "Epoch 2/5\n",
      "1/1 [==============================] - ETA: 0s - loss: 85514728.0000 - mse: 0.0861 - kl_metric: 0.0206\n",
      "Epoch 00002: val_mse improved from 0.11126 to 0.11104, saving model to /pbs/throng/lsst/users/bbiswas/debvader/debvader/data/weights/trial/vae/val_mse/weights.ckpt\n",
      "\n",
      "Epoch 00002: val_loss improved from 209217376.00000 to 79633040.00000, saving model to /pbs/throng/lsst/users/bbiswas/debvader/debvader/data/weights/trial/vae/val_loss/weights.ckpt\n",
      "1/1 [==============================] - 1s 1s/step - loss: 85514728.0000 - mse: 0.0861 - kl_metric: 0.0206 - val_loss: 79633040.0000 - val_mse: 0.1110 - val_kl_metric: 0.0313\n",
      "Epoch 3/5\n",
      "1/1 [==============================] - ETA: 0s - loss: 27099628.0000 - mse: 0.0860 - kl_metric: 0.0339\n",
      "Epoch 00003: val_mse improved from 0.11104 to 0.11094, saving model to /pbs/throng/lsst/users/bbiswas/debvader/debvader/data/weights/trial/vae/val_mse/weights.ckpt\n",
      "\n",
      "Epoch 00003: val_loss improved from 79633040.00000 to 29025636.00000, saving model to /pbs/throng/lsst/users/bbiswas/debvader/debvader/data/weights/trial/vae/val_loss/weights.ckpt\n",
      "1/1 [==============================] - 1s 1s/step - loss: 27099628.0000 - mse: 0.0860 - kl_metric: 0.0339 - val_loss: 29025636.0000 - val_mse: 0.1109 - val_kl_metric: 0.0275\n",
      "Epoch 4/5\n",
      "1/1 [==============================] - ETA: 0s - loss: 13190357.0000 - mse: 0.0859 - kl_metric: 0.2135\n",
      "Epoch 00004: val_mse did not improve from 0.11094\n",
      "\n",
      "Epoch 00004: val_loss improved from 29025636.00000 to 19005908.00000, saving model to /pbs/throng/lsst/users/bbiswas/debvader/debvader/data/weights/trial/vae/val_loss/weights.ckpt\n",
      "1/1 [==============================] - 1s 591ms/step - loss: 13190357.0000 - mse: 0.0859 - kl_metric: 0.2135 - val_loss: 19005908.0000 - val_mse: 0.1116 - val_kl_metric: 0.1406\n",
      "Epoch 5/5\n",
      "1/1 [==============================] - ETA: 0s - loss: 10622816.0000 - mse: 0.0954 - kl_metric: 1.2315\n",
      "Epoch 00005: val_mse did not improve from 0.11094\n",
      "\n",
      "Epoch 00005: val_loss improved from 19005908.00000 to 6278662.50000, saving model to /pbs/throng/lsst/users/bbiswas/debvader/debvader/data/weights/trial/vae/val_loss/weights.ckpt\n",
      "1/1 [==============================] - 1s 561ms/step - loss: 10622816.0000 - mse: 0.0954 - kl_metric: 1.2315 - val_loss: 6278662.5000 - val_mse: 0.1200 - val_kl_metric: 0.3300\n",
      "\n",
      "Training of VAE done.\n",
      "Model: \"functional_1\"\n",
      "_________________________________________________________________\n",
      "Layer (type)                 Output Shape              Param #   \n",
      "=================================================================\n",
      "input_3 (InputLayer)         [(None, 59, 59, 6)]       0         \n",
      "_________________________________________________________________\n",
      "encoder (Functional)         (None, 65)                5709881   \n",
      "_________________________________________________________________\n",
      "latent_space (MultivariateNo ((None, 10), (None, 10))  0         \n",
      "_________________________________________________________________\n",
      "decoder (Functional)         (None, 59, 59, 6)         3316044   \n",
      "=================================================================\n",
      "Total params: 9,025,925\n",
      "Trainable params: 5,709,869\n",
      "Non-trainable params: 3,316,056\n",
      "_________________________________________________________________\n",
      "None\n",
      "\n",
      "Start the training\n",
      "Epoch 1/5\n",
      "1/1 [==============================] - ETA: 0s - loss: 1063200.2500 - mse: 0.0872 - kl_metric: 0.0068\n",
      "Epoch 00001: val_mse improved from inf to 0.11120, saving model to /pbs/throng/lsst/users/bbiswas/debvader/debvader/data/weights/trial/deblender/val_mse/weights.ckpt\n",
      "\n",
      "Epoch 00001: val_loss improved from inf to 4241047.50000, saving model to /pbs/throng/lsst/users/bbiswas/debvader/debvader/data/weights/trial/deblender/val_loss/weights.ckpt\n",
      "1/1 [==============================] - 2s 2s/step - loss: 1063200.2500 - mse: 0.0872 - kl_metric: 0.0068 - val_loss: 4241047.5000 - val_mse: 0.1112 - val_kl_metric: 0.0343\n",
      "Epoch 2/5\n",
      "1/1 [==============================] - ETA: 0s - loss: 926844.5000 - mse: 0.0866 - kl_metric: 0.0351\n",
      "Epoch 00002: val_mse did not improve from 0.11120\n",
      "\n",
      "Epoch 00002: val_loss improved from 4241047.50000 to 2305479.50000, saving model to /pbs/throng/lsst/users/bbiswas/debvader/debvader/data/weights/trial/deblender/val_loss/weights.ckpt\n",
      "1/1 [==============================] - 1s 522ms/step - loss: 926844.5000 - mse: 0.0866 - kl_metric: 0.0351 - val_loss: 2305479.5000 - val_mse: 0.1115 - val_kl_metric: 0.0453\n",
      "Epoch 3/5\n",
      "1/1 [==============================] - ETA: 0s - loss: 917572.8750 - mse: 0.0876 - kl_metric: 0.0734\n",
      "Epoch 00003: val_mse did not improve from 0.11120\n",
      "\n",
      "Epoch 00003: val_loss did not improve from 2305479.50000\n",
      "1/1 [==============================] - 0s 85ms/step - loss: 917572.8750 - mse: 0.0876 - kl_metric: 0.0734 - val_loss: 3762526.5000 - val_mse: 0.1115 - val_kl_metric: 0.0253\n",
      "Epoch 4/5\n",
      "1/1 [==============================] - ETA: 0s - loss: 954726.6250 - mse: 0.0869 - kl_metric: 0.0159\n",
      "Epoch 00004: val_mse did not improve from 0.11120\n",
      "\n",
      "Epoch 00004: val_loss did not improve from 2305479.50000\n",
      "1/1 [==============================] - 0s 82ms/step - loss: 954726.6250 - mse: 0.0869 - kl_metric: 0.0159 - val_loss: 3207817.5000 - val_mse: 0.1119 - val_kl_metric: 0.0132\n",
      "Epoch 5/5\n",
      "1/1 [==============================] - ETA: 0s - loss: 888276.3125 - mse: 0.0874 - kl_metric: 0.0275\n",
      "Epoch 00005: val_mse did not improve from 0.11120\n",
      "\n",
      "Epoch 00005: val_loss did not improve from 2305479.50000\n",
      "1/1 [==============================] - 0s 77ms/step - loss: 888276.3125 - mse: 0.0874 - kl_metric: 0.0275 - val_loss: 3491566.7500 - val_mse: 0.1114 - val_kl_metric: 0.0363\n",
      "\n",
      "Training of Deblender done.\n"
     ]
    }
   ],
   "source": [
    "from debvader.train import train_deblender\n",
    "hist_vae, hist_deblender, net = train_deblender(survey_name=None,\n",
    "                                                  from_survey = None, \n",
    "                                                  vae_epochs=5, \n",
    "                                                  deblender_epochs=5,\n",
    "                                                  batch_size=5,\n",
    "                                                  latent_dim=10,\n",
    "                                                  training_data_vae = training_data_vae, \n",
    "                                                  validation_data_vae = validation_data_vae, \n",
    "                                                  training_data_deblender = training_data_deblender, \n",
    "                                                  validation_data_deblender = validation_data_deblender,   \n",
    "                                                  initial_weights_path=None,\n",
    "                                                  lr_scheduler_epochs=30)"
   ]
  },
  {
   "cell_type": "markdown",
   "id": "95afcab4-5c6f-44e2-8b20-c17c8ee434e7",
   "metadata": {},
   "source": [
    "### Dataset with a different number of filters"
   ]
  },
  {
   "cell_type": "markdown",
   "id": "87aa14b7-5dbc-44a1-9f83-dc7a4ad5dd7e",
   "metadata": {},
   "source": [
    "The number of available filters is different for each survey. For example, five filters are available for DES data. To change that you should specify it in the train_deblender function, as well as if the channels appear last or first in the data array."
   ]
  },
  {
   "cell_type": "code",
   "execution_count": 6,
   "id": "dfb93b18-59c9-4ee7-ab9f-76cadda8e4d1",
   "metadata": {},
   "outputs": [
    {
     "data": {
      "text/plain": [
       "(2, 5, 59, 59, 6)"
      ]
     },
     "execution_count": 6,
     "metadata": {},
     "output_type": "execute_result"
    }
   ],
   "source": [
    "training_data_vae.shape"
   ]
  },
  {
   "cell_type": "markdown",
   "id": "42def587-2133-457d-b655-d970a61468ae",
   "metadata": {},
   "source": [
    "Here the channels appear last in the data array. So the channel_first option in the train_deblender function is set as False (default setting)."
   ]
  },
  {
   "cell_type": "code",
   "execution_count": 7,
   "id": "15aac255-0f03-438f-811a-49d6d1f95a4e",
   "metadata": {},
   "outputs": [
    {
     "name": "stdout",
     "output_type": "stream",
     "text": [
      "in cropping\n",
      "The number of bands in the data does not correspond to the number of filters in the network. Correct this before starting again.\n"
     ]
    },
    {
     "ename": "ValueError",
     "evalue": "",
     "output_type": "error",
     "traceback": [
      "\u001b[0;31m---------------------------------------------------------------------------\u001b[0m",
      "\u001b[0;31mValueError\u001b[0m                                Traceback (most recent call last)",
      "\u001b[0;32m/tmp/ipykernel_24832/1226637448.py\u001b[0m in \u001b[0;36m<module>\u001b[0;34m\u001b[0m\n\u001b[1;32m     11\u001b[0m                                                   \u001b[0mtraining_data_deblender\u001b[0m \u001b[0;34m=\u001b[0m \u001b[0mtraining_data_deblender\u001b[0m\u001b[0;34m,\u001b[0m\u001b[0;34m\u001b[0m\u001b[0;34m\u001b[0m\u001b[0m\n\u001b[1;32m     12\u001b[0m                                                   \u001b[0mvalidation_data_deblender\u001b[0m \u001b[0;34m=\u001b[0m \u001b[0mvalidation_data_deblender\u001b[0m\u001b[0;34m,\u001b[0m\u001b[0;34m\u001b[0m\u001b[0;34m\u001b[0m\u001b[0m\n\u001b[0;32m---> 13\u001b[0;31m                                                   initial_weights_path=None)\n\u001b[0m",
      "\u001b[0;32m/pbs/throng/lsst/users/bbiswas/debvader/debvader/train.py\u001b[0m in \u001b[0;36mtrain_deblender\u001b[0;34m(training_data_vae, validation_data_vae, training_data_deblender, validation_data_deblender, vae_epochs, deblender_epochs, input_shape, latent_dim, filters, kernels, channel_last, batch_size, verbose, initial_weights_path, from_survey, weights_save_path, survey_name, lr_scheduler_epochs)\u001b[0m\n\u001b[1;32m    216\u001b[0m                 \u001b[0;34m\"The number of bands in the data does not correspond to the number of filters in the network. Correct this before starting again.\"\u001b[0m\u001b[0;34m\u001b[0m\u001b[0;34m\u001b[0m\u001b[0m\n\u001b[1;32m    217\u001b[0m             )\n\u001b[0;32m--> 218\u001b[0;31m             \u001b[0;32mraise\u001b[0m \u001b[0mValueError\u001b[0m\u001b[0;34m\u001b[0m\u001b[0;34m\u001b[0m\u001b[0m\n\u001b[0m\u001b[1;32m    219\u001b[0m \u001b[0;34m\u001b[0m\u001b[0m\n\u001b[1;32m    220\u001b[0m     \u001b[0;31m# Start from the weights of an already trained network (recommended if possible)\u001b[0m\u001b[0;34m\u001b[0m\u001b[0;34m\u001b[0m\u001b[0;34m\u001b[0m\u001b[0m\n",
      "\u001b[0;31mValueError\u001b[0m: "
     ]
    }
   ],
   "source": [
    "# Remember to modify the input shape accordingly\n",
    "hist_vae, hist_deblender, net = debvader.train.train_deblender(survey_name=\"des\",\n",
    "                                                  input_shape=[59, 59, 5],\n",
    "                                                  from_survey = None, \n",
    "                                                  vae_epochs=250, \n",
    "                                                  deblender_epochs=250,\n",
    "                                                  batch_size=5,\n",
    "                                                  latent_dim=10,\n",
    "                                                  training_data_vae = training_data_vae, \n",
    "                                                  validation_data_vae = validation_data_vae, \n",
    "                                                  training_data_deblender = training_data_deblender, \n",
    "                                                  validation_data_deblender = validation_data_deblender,   \n",
    "                                                  initial_weights_path=None)"
   ]
  },
  {
   "cell_type": "markdown",
   "id": "a63c1b5e-ca38-4e76-a46e-3b477e88f3ca",
   "metadata": {},
   "source": [
    "We need to change the training data format. For example just train on the five fist channels."
   ]
  },
  {
   "cell_type": "code",
   "execution_count": 8,
   "id": "15df582c-b35b-492d-9bbf-8a9d0ce4d8fe",
   "metadata": {},
   "outputs": [],
   "source": [
    "training_data_vae_deslike = np.array((images[:5,:,:,:5], images[:5,:,:,:5]))\n",
    "validation_data_vae_deslike = np.array((images[5:,:,:,:5], images[5:,:,:,:5]))\n",
    "\n",
    "training_data_deblender_deslike = np.array((images[:5,:,:,:5], images[:5,:,:,:5]))\n",
    "validation_data_deblender_deslike = np.array((images[5:,:,:,:5], images[5:,:,:,:5]))"
   ]
  },
  {
   "cell_type": "markdown",
   "id": "4032f71a-fa6f-42cd-a626-39d3a52fa162",
   "metadata": {},
   "source": [
    "Now try the training:"
   ]
  },
  {
   "cell_type": "code",
   "execution_count": 9,
   "id": "a0fed47e-a93b-48d9-b0a8-30ab7cb3b5d8",
   "metadata": {},
   "outputs": [],
   "source": [
    "data_folder_path = pkg_resources.resource_filename('debvader', \"data/\")\n",
    "path_output = os.path.join(data_folder_path, 'weights/dc2/not_normalised/')\n",
    "latest = tf.train.latest_checkpoint(path_output)"
   ]
  },
  {
   "cell_type": "markdown",
   "id": "c9cd53c2-75fd-48c3-b9c7-e907d4f3ba06",
   "metadata": {},
   "source": [
    "Warning: we cannot use the weights from the network trained on DC2 as the data has six channels in that case. We need to set the from_survey option to None."
   ]
  },
  {
   "cell_type": "code",
   "execution_count": 10,
   "id": "b74e8b6f-a312-4ae4-b521-2b957950f1f3",
   "metadata": {},
   "outputs": [
    {
     "name": "stdout",
     "output_type": "stream",
     "text": [
      "in cropping\n",
      "Model: \"functional_9\"\n",
      "_________________________________________________________________\n",
      "Layer (type)                 Output Shape              Param #   \n",
      "=================================================================\n",
      "input_10 (InputLayer)        [(None, 59, 59, 5)]       0         \n",
      "_________________________________________________________________\n",
      "encoder (Functional)         (None, 65)                5709589   \n",
      "_________________________________________________________________\n",
      "latent_space (MultivariateNo ((None, 10), (None, 10))  0         \n",
      "_________________________________________________________________\n",
      "decoder (Functional)         (None, 59, 59, 5)         3315466   \n",
      "=================================================================\n",
      "Total params: 9,025,055\n",
      "Trainable params: 9,025,045\n",
      "Non-trainable params: 10\n",
      "_________________________________________________________________\n",
      "None\n",
      "\n",
      "Start the training\n",
      "Epoch 1/5\n",
      "1/1 [==============================] - ETA: 0s - loss: 439312832.0000 - mse: 0.0609 - kl_metric: 0.0262\n",
      "Epoch 00001: val_mse improved from inf to 0.09277, saving model to /pbs/throng/lsst/users/bbiswas/debvader/debvader/data/weights/des/vae/val_mse/weights.ckpt\n",
      "\n",
      "Epoch 00001: val_loss improved from inf to 211389088.00000, saving model to /pbs/throng/lsst/users/bbiswas/debvader/debvader/data/weights/des/vae/val_loss/weights.ckpt\n",
      "1/1 [==============================] - 2s 2s/step - loss: 439312832.0000 - mse: 0.0609 - kl_metric: 0.0262 - val_loss: 211389088.0000 - val_mse: 0.0928 - val_kl_metric: 0.0285\n",
      "Epoch 2/5\n",
      "1/1 [==============================] - ETA: 0s - loss: 110345176.0000 - mse: 0.0607 - kl_metric: 0.0182\n",
      "Epoch 00002: val_mse improved from 0.09277 to 0.09271, saving model to /pbs/throng/lsst/users/bbiswas/debvader/debvader/data/weights/des/vae/val_mse/weights.ckpt\n",
      "\n",
      "Epoch 00002: val_loss improved from 211389088.00000 to 112967504.00000, saving model to /pbs/throng/lsst/users/bbiswas/debvader/debvader/data/weights/des/vae/val_loss/weights.ckpt\n",
      "1/1 [==============================] - 1s 1s/step - loss: 110345176.0000 - mse: 0.0607 - kl_metric: 0.0182 - val_loss: 112967504.0000 - val_mse: 0.0927 - val_kl_metric: 0.0198\n",
      "Epoch 3/5\n",
      "1/1 [==============================] - ETA: 0s - loss: 61895328.0000 - mse: 0.0606 - kl_metric: 0.0847\n",
      "Epoch 00003: val_mse did not improve from 0.09271\n",
      "\n",
      "Epoch 00003: val_loss improved from 112967504.00000 to 68185704.00000, saving model to /pbs/throng/lsst/users/bbiswas/debvader/debvader/data/weights/des/vae/val_loss/weights.ckpt\n",
      "1/1 [==============================] - 1s 595ms/step - loss: 61895328.0000 - mse: 0.0606 - kl_metric: 0.0847 - val_loss: 68185704.0000 - val_mse: 0.0929 - val_kl_metric: 0.0766\n",
      "Epoch 4/5\n",
      "1/1 [==============================] - ETA: 0s - loss: 30220036.0000 - mse: 0.0656 - kl_metric: 1.3079\n",
      "Epoch 00004: val_mse did not improve from 0.09271\n",
      "\n",
      "Epoch 00004: val_loss improved from 68185704.00000 to 57444224.00000, saving model to /pbs/throng/lsst/users/bbiswas/debvader/debvader/data/weights/des/vae/val_loss/weights.ckpt\n",
      "1/1 [==============================] - 1s 557ms/step - loss: 30220036.0000 - mse: 0.0656 - kl_metric: 1.3079 - val_loss: 57444224.0000 - val_mse: 0.0945 - val_kl_metric: 0.1134\n",
      "Epoch 5/5\n",
      "1/1 [==============================] - ETA: 0s - loss: 22884592.0000 - mse: 0.1074 - kl_metric: 3.1335\n",
      "Epoch 00005: val_mse did not improve from 0.09271\n",
      "\n",
      "Epoch 00005: val_loss improved from 57444224.00000 to 29335782.00000, saving model to /pbs/throng/lsst/users/bbiswas/debvader/debvader/data/weights/des/vae/val_loss/weights.ckpt\n",
      "1/1 [==============================] - 1s 562ms/step - loss: 22884592.0000 - mse: 0.1074 - kl_metric: 3.1335 - val_loss: 29335782.0000 - val_mse: 0.1031 - val_kl_metric: 0.1330\n",
      "\n",
      "Training of VAE done.\n",
      "Model: \"functional_9\"\n",
      "_________________________________________________________________\n",
      "Layer (type)                 Output Shape              Param #   \n",
      "=================================================================\n",
      "input_10 (InputLayer)        [(None, 59, 59, 5)]       0         \n",
      "_________________________________________________________________\n",
      "encoder (Functional)         (None, 65)                5709589   \n",
      "_________________________________________________________________\n",
      "latent_space (MultivariateNo ((None, 10), (None, 10))  0         \n",
      "_________________________________________________________________\n",
      "decoder (Functional)         (None, 59, 59, 5)         3315466   \n",
      "=================================================================\n",
      "Total params: 9,025,055\n",
      "Trainable params: 5,709,579\n",
      "Non-trainable params: 3,315,476\n",
      "_________________________________________________________________\n",
      "None\n",
      "\n",
      "Start the training\n",
      "Epoch 1/5\n",
      "1/1 [==============================] - ETA: 0s - loss: 9618866.0000 - mse: 0.0632 - kl_metric: 0.0053\n",
      "Epoch 00001: val_mse improved from inf to 0.09408, saving model to /pbs/throng/lsst/users/bbiswas/debvader/debvader/data/weights/des/deblender/val_mse/weights.ckpt\n",
      "\n",
      "Epoch 00001: val_loss improved from inf to 27079734.00000, saving model to /pbs/throng/lsst/users/bbiswas/debvader/debvader/data/weights/des/deblender/val_loss/weights.ckpt\n",
      "1/1 [==============================] - 2s 2s/step - loss: 9618866.0000 - mse: 0.0632 - kl_metric: 0.0053 - val_loss: 27079734.0000 - val_mse: 0.0941 - val_kl_metric: 0.0297\n",
      "Epoch 2/5\n",
      "1/1 [==============================] - ETA: 0s - loss: 9564602.0000 - mse: 0.0633 - kl_metric: 0.0290\n",
      "Epoch 00002: val_mse did not improve from 0.09408\n",
      "\n",
      "Epoch 00002: val_loss improved from 27079734.00000 to 25477108.00000, saving model to /pbs/throng/lsst/users/bbiswas/debvader/debvader/data/weights/des/deblender/val_loss/weights.ckpt\n",
      "1/1 [==============================] - 1s 515ms/step - loss: 9564602.0000 - mse: 0.0633 - kl_metric: 0.0290 - val_loss: 25477108.0000 - val_mse: 0.0941 - val_kl_metric: 0.0452\n",
      "Epoch 3/5\n",
      "1/1 [==============================] - ETA: 0s - loss: 9476349.0000 - mse: 0.0631 - kl_metric: 0.0516\n",
      "Epoch 00003: val_mse did not improve from 0.09408\n",
      "\n",
      "Epoch 00003: val_loss improved from 25477108.00000 to 25006704.00000, saving model to /pbs/throng/lsst/users/bbiswas/debvader/debvader/data/weights/des/deblender/val_loss/weights.ckpt\n",
      "1/1 [==============================] - 1s 521ms/step - loss: 9476349.0000 - mse: 0.0631 - kl_metric: 0.0516 - val_loss: 25006704.0000 - val_mse: 0.0943 - val_kl_metric: 0.0358\n",
      "Epoch 4/5\n",
      "1/1 [==============================] - ETA: 0s - loss: 9674870.0000 - mse: 0.0631 - kl_metric: 0.0199\n",
      "Epoch 00004: val_mse did not improve from 0.09408\n",
      "\n",
      "Epoch 00004: val_loss did not improve from 25006704.00000\n",
      "1/1 [==============================] - 0s 88ms/step - loss: 9674870.0000 - mse: 0.0631 - kl_metric: 0.0199 - val_loss: 27046420.0000 - val_mse: 0.0946 - val_kl_metric: 0.0238\n",
      "Epoch 5/5\n",
      "1/1 [==============================] - ETA: 0s - loss: 9420302.0000 - mse: 0.0632 - kl_metric: 0.0329\n",
      "Epoch 00005: val_mse did not improve from 0.09408\n",
      "\n",
      "Epoch 00005: val_loss did not improve from 25006704.00000\n",
      "1/1 [==============================] - 0s 96ms/step - loss: 9420302.0000 - mse: 0.0632 - kl_metric: 0.0329 - val_loss: 27477468.0000 - val_mse: 0.0942 - val_kl_metric: 0.0333\n",
      "\n",
      "Training of Deblender done.\n"
     ]
    }
   ],
   "source": [
    "hist_vae, hist_deblender, net = debvader.train.train_deblender(survey_name=\"des\",\n",
    "                                                  input_shape=[59, 59, 5],\n",
    "                                                  from_survey = None, \n",
    "                                                  vae_epochs=5, \n",
    "                                                  deblender_epochs=5,\n",
    "                                                  batch_size=5,\n",
    "                                                  latent_dim=10,\n",
    "                                                  training_data_vae = training_data_vae_deslike, \n",
    "                                                  validation_data_vae = validation_data_vae_deslike, \n",
    "                                                  training_data_deblender = training_data_deblender_deslike, \n",
    "                                                  validation_data_deblender = validation_data_deblender_deslike,   \n",
    "                                                  initial_weights_path=None)"
   ]
  },
  {
   "cell_type": "code",
   "execution_count": null,
   "id": "a026ddfa-6e92-4c41-b6d8-536be60294a7",
   "metadata": {},
   "outputs": [],
   "source": []
  },
  {
   "cell_type": "code",
   "execution_count": null,
   "id": "cf430e87-a294-4900-97a0-5d2611d3a559",
   "metadata": {},
   "outputs": [],
   "source": []
  },
  {
   "cell_type": "code",
   "execution_count": null,
   "id": "dd262087-ca93-4cd3-bb9f-dfc27093efe6",
   "metadata": {},
   "outputs": [],
   "source": []
  }
 ],
 "metadata": {
  "kernelspec": {
   "display_name": "debvader",
   "language": "python",
   "name": "debvader"
  },
  "language_info": {
   "codemirror_mode": {
    "name": "ipython",
    "version": 3
   },
   "file_extension": ".py",
   "mimetype": "text/x-python",
   "name": "python",
   "nbconvert_exporter": "python",
   "pygments_lexer": "ipython3",
   "version": "3.7.11"
  }
 },
 "nbformat": 4,
 "nbformat_minor": 5
}
