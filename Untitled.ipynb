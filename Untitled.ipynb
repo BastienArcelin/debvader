{
 "cells": [
  {
   "cell_type": "code",
   "execution_count": 1,
   "id": "8532afff",
   "metadata": {},
   "outputs": [],
   "source": [
    "import pathlib\n",
    "path_folder = pathlib.Path().resolve()"
   ]
  },
  {
   "cell_type": "code",
   "execution_count": 2,
   "id": "c9d135af",
   "metadata": {},
   "outputs": [],
   "source": [
    "import sys  \n",
    "sys.path.insert(0, str(path_folder)+'/tools/')"
   ]
  },
  {
   "cell_type": "code",
   "execution_count": 3,
   "id": "295ffcb0",
   "metadata": {},
   "outputs": [
    {
     "name": "stdout",
     "output_type": "stream",
     "text": [
      "/pbs/throng/lsst/users/barcelin/debvader\n"
     ]
    }
   ],
   "source": [
    "print(path_folder)"
   ]
  },
  {
   "cell_type": "code",
   "execution_count": 4,
   "id": "98c68e33",
   "metadata": {},
   "outputs": [],
   "source": [
    "import model"
   ]
  },
  {
   "cell_type": "code",
   "execution_count": 5,
   "id": "a8e96325",
   "metadata": {},
   "outputs": [],
   "source": [
    "import debvader"
   ]
  },
  {
   "cell_type": "code",
   "execution_count": 6,
   "id": "49a1f3bf",
   "metadata": {},
   "outputs": [
    {
     "data": {
      "text/plain": [
       "<module 'debvader' from '/pbs/throng/lsst/users/barcelin/debvader/debvader/__init__.py'>"
      ]
     },
     "execution_count": 6,
     "metadata": {},
     "output_type": "execute_result"
    }
   ],
   "source": [
    "debvader"
   ]
  },
  {
   "cell_type": "code",
   "execution_count": 7,
   "id": "69c3e7c1",
   "metadata": {},
   "outputs": [
    {
     "data": {
      "text/plain": [
       "<module 'debvader' from '/pbs/throng/lsst/users/barcelin/debvader/debvader/__init__.py'>"
      ]
     },
     "execution_count": 7,
     "metadata": {},
     "output_type": "execute_result"
    }
   ],
   "source": [
    "debvader.debvader"
   ]
  },
  {
   "cell_type": "code",
   "execution_count": 8,
   "id": "d8e01a9a",
   "metadata": {},
   "outputs": [],
   "source": [
    "from debvader.debvader import convert, load_deblender"
   ]
  },
  {
   "cell_type": "code",
   "execution_count": 9,
   "id": "7f550b5d",
   "metadata": {},
   "outputs": [
    {
     "name": "stdout",
     "output_type": "stream",
     "text": [
      "I'll convert a notebook for you some day, test.\n"
     ]
    }
   ],
   "source": [
    "convert('test')"
   ]
  },
  {
   "cell_type": "code",
   "execution_count": 10,
   "id": "d0127358",
   "metadata": {},
   "outputs": [],
   "source": [
    "nb_of_bands = 6\n",
    "input_shape = (59, 59, nb_of_bands)\n",
    "hidden_dim = 256\n",
    "latent_dim = 32\n",
    "filters = [32,64,128,256]\n",
    "kernels = [3,3,3,3]"
   ]
  },
  {
   "cell_type": "code",
   "execution_count": 11,
   "id": "6baeb7f9",
   "metadata": {},
   "outputs": [
    {
     "name": "stderr",
     "output_type": "stream",
     "text": [
      "WARNING: Logging before flag parsing goes to stderr.\n",
      "W0726 12:16:51.223675 140709844809536 deprecation.py:506] From /sps/lsst/users/barcelin/miniconda/envs/python_cpu6/lib/python3.6/site-packages/tensorflow_core/python/ops/linalg/linear_operator_lower_triangular.py:158: calling LinearOperator.__init__ (from tensorflow.python.ops.linalg.linear_operator) with graph_parents is deprecated and will be removed in a future version.\n",
      "Instructions for updating:\n",
      "Do not pass `graph_parents`.  They will  no longer be used.\n"
     ]
    },
    {
     "name": "stdout",
     "output_type": "stream",
     "text": [
      "in cropping\n",
      "/pbs/throng/lsst/users/barcelin/debvader/weights/dc2/\n"
     ]
    }
   ],
   "source": [
    "net = load_deblender(\"dc2\", input_shape, hidden_dim, latent_dim, filters, kernels)"
   ]
  },
  {
   "cell_type": "code",
   "execution_count": null,
   "id": "5b544119",
   "metadata": {},
   "outputs": [],
   "source": []
  }
 ],
 "metadata": {
  "kernelspec": {
   "display_name": "cpu6",
   "language": "python",
   "name": "jupyter_cpu6"
  },
  "language_info": {
   "codemirror_mode": {
    "name": "ipython",
    "version": 3
   },
   "file_extension": ".py",
   "mimetype": "text/x-python",
   "name": "python",
   "nbconvert_exporter": "python",
   "pygments_lexer": "ipython3",
   "version": "3.6.8"
  }
 },
 "nbformat": 4,
 "nbformat_minor": 5
}
